{
  "cells": [
    {
      "cell_type": "markdown",
      "metadata": {
        "id": "view-in-github",
        "colab_type": "text"
      },
      "source": [
        "<a href=\"https://colab.research.google.com/github/chaimabenabda2/Deep_Learning/blob/main/vgg16.ipynb\" target=\"_parent\"><img src=\"https://colab.research.google.com/assets/colab-badge.svg\" alt=\"Open In Colab\"/></a>"
      ]
    },
    {
      "cell_type": "code",
      "execution_count": null,
      "id": "12c9624b-e6f4-4829-8a40-2c06fff11d80",
      "metadata": {
        "id": "12c9624b-e6f4-4829-8a40-2c06fff11d80",
        "outputId": "3d635613-8af1-417e-c16b-7bc33e1c3bf1"
      },
      "outputs": [
        {
          "data": {
            "image/png": "[encoded data removed]",
            "text/plain": [
              "<IPython.core.display.Image object>"
            ]
          },
          "execution_count": 1,
          "metadata": {},
          "output_type": "execute_result"
        }
      ],
      "source": [
        "#from IPython.display import Image\n",
        "#Image('vgg16.png')"
      ]
    },
    {
      "cell_type": "markdown",
      "id": "07336940-de75-47b4-812c-defc626e59af",
      "metadata": {
        "id": "07336940-de75-47b4-812c-defc626e59af"
      },
      "source": [
        "https://fr.wikipedia.org/wiki/ImageNet"
      ]
    },
    {
      "cell_type": "code",
      "execution_count": null,
      "id": "17abc7a4-e67d-42a4-8dfb-4ba8fb85ded5",
      "metadata": {
        "id": "17abc7a4-e67d-42a4-8dfb-4ba8fb85ded5"
      },
      "outputs": [],
      "source": [
        "import tensorflow\n",
        "from tensorflow.keras import layers\n",
        "from tensorflow.keras import Model\n",
        "from tensorflow.keras.models import Sequential\n",
        "from tensorflow.keras.applications.vgg16 import VGG16"
      ]
    },
    {
      "cell_type": "markdown",
      "id": "c82d303d-6bdd-4d0b-9c65-d89425b6e08d",
      "metadata": {
        "id": "c82d303d-6bdd-4d0b-9c65-d89425b6e08d"
      },
      "source": [
        "**Preprocessing**"
      ]
    },
    {
      "cell_type": "code",
      "execution_count": null,
      "id": "b10a15cf-d6c8-4a00-82b9-6b798c444c03",
      "metadata": {
        "id": "b10a15cf-d6c8-4a00-82b9-6b798c444c03"
      },
      "outputs": [],
      "source": [
        "from keras.preprocessing.image import ImageDataGenerator"
      ]
    },
    {
      "cell_type": "code",
      "execution_count": null,
      "id": "03caeb3c-e69a-4e8d-89ca-13ca6b9511b2",
      "metadata": {
        "id": "03caeb3c-e69a-4e8d-89ca-13ca6b9511b2"
      },
      "outputs": [],
      "source": [
        "train_augmentation = ImageDataGenerator(\n",
        "        rescale=1./255,\n",
        "        rotation_range=0.2,\n",
        "        width_shift_range = 0.2,\n",
        "        height_shift_range = 0.2,\n",
        "        zoom_range=0.2,\n",
        "        horizontal_flip=True)"
      ]
    },
    {
      "cell_type": "code",
      "source": [
        "from google.colab import drive\n",
        "drive.mount('/content/drive')"
      ],
      "metadata": {
        "colab": {
          "base_uri": "https://localhost:8080/"
        },
        "id": "FRH2X0yT-kW4",
        "outputId": "8f67cfbc-b200-42d7-bec6-a410c5c9d4aa"
      },
      "id": "FRH2X0yT-kW4",
      "execution_count": null,
      "outputs": [
        {
          "output_type": "stream",
          "name": "stdout",
          "text": [
            "Mounted at /content/drive\n"
          ]
        }
      ]
    },
    {
      "cell_type": "code",
      "execution_count": null,
      "id": "b5503cec-e31d-4a25-ac01-3f6e7cb42821",
      "metadata": {
        "colab": {
          "base_uri": "https://localhost:8080/"
        },
        "id": "b5503cec-e31d-4a25-ac01-3f6e7cb42821",
        "outputId": "06cf3963-1678-47e0-81e1-9f7dbefa9bb2"
      },
      "outputs": [
        {
          "output_type": "stream",
          "name": "stdout",
          "text": [
            "Found 8000 images belonging to 2 classes.\n"
          ]
        }
      ],
      "source": [
        "train_generator = train_augmentation.flow_from_directory(\n",
        "        '/content/drive/MyDrive/dataset/training_set',\n",
        "        target_size=(128, 128),\n",
        "        batch_size=128,\n",
        "        class_mode='binary')"
      ]
    },
    {
      "cell_type": "code",
      "execution_count": null,
      "id": "825bb953-c71d-4939-99a6-e4913bbe6883",
      "metadata": {
        "id": "825bb953-c71d-4939-99a6-e4913bbe6883"
      },
      "outputs": [],
      "source": [
        "test_augmentation = ImageDataGenerator(rescale=1./255)"
      ]
    },
    {
      "cell_type": "code",
      "execution_count": null,
      "id": "053440b4-d8fb-4bed-b19e-4ab1a7e78601",
      "metadata": {
        "colab": {
          "base_uri": "https://localhost:8080/"
        },
        "id": "053440b4-d8fb-4bed-b19e-4ab1a7e78601",
        "outputId": "afbcd401-ad87-4041-fb8d-99fdaf3ee9c4"
      },
      "outputs": [
        {
          "output_type": "stream",
          "name": "stdout",
          "text": [
            "Found 2000 images belonging to 2 classes.\n"
          ]
        }
      ],
      "source": [
        "validation_generator = test_augmentation.flow_from_directory(\n",
        "        '/content/drive/MyDrive/dataset/test_set',\n",
        "        target_size=(128, 128),\n",
        "        batch_size=128,\n",
        "        class_mode='binary')"
      ]
    },
    {
      "cell_type": "code",
      "execution_count": null,
      "id": "f0ae0a27-df89-4f13-94d2-f6cadae3aa44",
      "metadata": {
        "colab": {
          "base_uri": "https://localhost:8080/"
        },
        "id": "f0ae0a27-df89-4f13-94d2-f6cadae3aa44",
        "outputId": "689ff2cc-af11-4caa-91b3-e77152625104"
      },
      "outputs": [
        {
          "output_type": "stream",
          "name": "stdout",
          "text": [
            "Downloading data from https://storage.googleapis.com/tensorflow/keras-applications/vgg16/vgg16_weights_tf_dim_ordering_tf_kernels_notop.h5\n",
            "58889256/58889256 [==============================] - 0s 0us/step\n"
          ]
        }
      ],
      "source": [
        "conv_base = VGG16(input_shape=(128,128,3), include_top = False, weights = 'imagenet')"
      ]
    },
    {
      "cell_type": "code",
      "execution_count": null,
      "id": "96dda814-1a38-4e26-be1b-a573cdf99965",
      "metadata": {
        "colab": {
          "base_uri": "https://localhost:8080/"
        },
        "id": "96dda814-1a38-4e26-be1b-a573cdf99965",
        "outputId": "c2b13a4f-8bf3-43d9-c34c-87beed106ca5"
      },
      "outputs": [
        {
          "output_type": "stream",
          "name": "stdout",
          "text": [
            "Model: \"vgg16\"\n",
            "_________________________________________________________________\n",
            " Layer (type)                Output Shape              Param #   \n",
            "=================================================================\n",
            " input_1 (InputLayer)        [(None, 128, 128, 3)]     0         \n",
            "                                                                 \n",
            " block1_conv1 (Conv2D)       (None, 128, 128, 64)      1792      \n",
            "                                                                 \n",
            " block1_conv2 (Conv2D)       (None, 128, 128, 64)      36928     \n",
            "                                                                 \n",
            " block1_pool (MaxPooling2D)  (None, 64, 64, 64)        0         \n",
            "                                                                 \n",
            " block2_conv1 (Conv2D)       (None, 64, 64, 128)       73856     \n",
            "                                                                 \n",
            " block2_conv2 (Conv2D)       (None, 64, 64, 128)       147584    \n",
            "                                                                 \n",
            " block2_pool (MaxPooling2D)  (None, 32, 32, 128)       0         \n",
            "                                                                 \n",
            " block3_conv1 (Conv2D)       (None, 32, 32, 256)       295168    \n",
            "                                                                 \n",
            " block3_conv2 (Conv2D)       (None, 32, 32, 256)       590080    \n",
            "                                                                 \n",
            " block3_conv3 (Conv2D)       (None, 32, 32, 256)       590080    \n",
            "                                                                 \n",
            " block3_pool (MaxPooling2D)  (None, 16, 16, 256)       0         \n",
            "                                                                 \n",
            " block4_conv1 (Conv2D)       (None, 16, 16, 512)       1180160   \n",
            "                                                                 \n",
            " block4_conv2 (Conv2D)       (None, 16, 16, 512)       2359808   \n",
            "                                                                 \n",
            " block4_conv3 (Conv2D)       (None, 16, 16, 512)       2359808   \n",
            "                                                                 \n",
            " block4_pool (MaxPooling2D)  (None, 8, 8, 512)         0         \n",
            "                                                                 \n",
            " block5_conv1 (Conv2D)       (None, 8, 8, 512)         2359808   \n",
            "                                                                 \n",
            " block5_conv2 (Conv2D)       (None, 8, 8, 512)         2359808   \n",
            "                                                                 \n",
            " block5_conv3 (Conv2D)       (None, 8, 8, 512)         2359808   \n",
            "                                                                 \n",
            " block5_pool (MaxPooling2D)  (None, 4, 4, 512)         0         \n",
            "                                                                 \n",
            "=================================================================\n",
            "Total params: 14,714,688\n",
            "Trainable params: 14,714,688\n",
            "Non-trainable params: 0\n",
            "_________________________________________________________________\n"
          ]
        }
      ],
      "source": [
        "conv_base.summary()"
      ]
    },
    {
      "cell_type": "code",
      "execution_count": null,
      "id": "b4738275-6fbf-4076-8488-a9c5299cb37f",
      "metadata": {
        "id": "b4738275-6fbf-4076-8488-a9c5299cb37f"
      },
      "outputs": [],
      "source": [
        "for layer in conv_base.layers:\n",
        "    layer.trainable = False"
      ]
    },
    {
      "cell_type": "code",
      "execution_count": null,
      "id": "3269c362-8276-4e86-ad5e-a6615887ec5d",
      "metadata": {
        "id": "3269c362-8276-4e86-ad5e-a6615887ec5d"
      },
      "outputs": [],
      "source": [
        "model = Sequential()\n",
        "model.add(conv_base)\n",
        "model.add(layers.Flatten())\n",
        "model.add(layers.Dense(256,activation = 'relu'))\n",
        "model.add(layers.Dense(1, activation = 'sigmoid'))"
      ]
    },
    {
      "cell_type": "code",
      "execution_count": null,
      "id": "c9ce7f63-45b5-468e-9aa8-02a851d7086e",
      "metadata": {
        "colab": {
          "base_uri": "https://localhost:8080/"
        },
        "id": "c9ce7f63-45b5-468e-9aa8-02a851d7086e",
        "outputId": "720f74d7-3b14-491c-c99d-e218cb75fc3b"
      },
      "outputs": [
        {
          "output_type": "stream",
          "name": "stdout",
          "text": [
            "Model: \"sequential\"\n",
            "_________________________________________________________________\n",
            " Layer (type)                Output Shape              Param #   \n",
            "=================================================================\n",
            " vgg16 (Functional)          (None, 4, 4, 512)         14714688  \n",
            "                                                                 \n",
            " flatten (Flatten)           (None, 8192)              0         \n",
            "                                                                 \n",
            " dense (Dense)               (None, 256)               2097408   \n",
            "                                                                 \n",
            " dense_1 (Dense)             (None, 1)                 257       \n",
            "                                                                 \n",
            "=================================================================\n",
            "Total params: 16,812,353\n",
            "Trainable params: 2,097,665\n",
            "Non-trainable params: 14,714,688\n",
            "_________________________________________________________________\n"
          ]
        }
      ],
      "source": [
        "model.summary()"
      ]
    },
    {
      "cell_type": "code",
      "execution_count": null,
      "id": "51d65a38-bded-4a30-931a-de0d3cd23fb8",
      "metadata": {
        "id": "51d65a38-bded-4a30-931a-de0d3cd23fb8"
      },
      "outputs": [],
      "source": [
        "model.compile(optimizer = 'adam', loss = 'binary_crossentropy', metrics = ['accuracy'])"
      ]
    },
    {
      "cell_type": "code",
      "execution_count": null,
      "id": "6089c28d-c9ea-4c80-9630-13c2fd614daa",
      "metadata": {
        "colab": {
          "base_uri": "https://localhost:8080/"
        },
        "id": "6089c28d-c9ea-4c80-9630-13c2fd614daa",
        "outputId": "1152fb15-66ea-45d6-ceda-6903bf4b00c5"
      },
      "outputs": [
        {
          "output_type": "stream",
          "name": "stdout",
          "text": [
            "Epoch 1/5\n",
            "8/8 - 815s - loss: 1.6751 - accuracy: 0.5127 - val_loss: 0.5946 - val_accuracy: 0.6505 - 815s/epoch - 102s/step\n",
            "Epoch 2/5\n",
            "8/8 - 760s - loss: 0.6382 - accuracy: 0.6504 - val_loss: 0.4912 - val_accuracy: 0.7810 - 760s/epoch - 95s/step\n",
            "Epoch 3/5\n",
            "8/8 - 671s - loss: 0.5044 - accuracy: 0.7588 - val_loss: 0.4161 - val_accuracy: 0.8200 - 671s/epoch - 84s/step\n",
            "Epoch 4/5\n",
            "8/8 - 679s - loss: 0.4422 - accuracy: 0.7988 - val_loss: 0.3913 - val_accuracy: 0.8160 - 679s/epoch - 85s/step\n",
            "Epoch 5/5\n",
            "8/8 - 662s - loss: 0.4112 - accuracy: 0.8066 - val_loss: 0.3432 - val_accuracy: 0.8520 - 662s/epoch - 83s/step\n"
          ]
        }
      ],
      "source": [
        "history = model.fit(train_generator , steps_per_epoch = 8, epochs = 5, verbose = 2,\n",
        "                    validation_data = validation_generator)"
      ]
    },
    {
      "cell_type": "code",
      "execution_count": null,
      "id": "7f89a573-8cd1-46f4-bad9-0e1268d7dee4",
      "metadata": {
        "id": "7f89a573-8cd1-46f4-bad9-0e1268d7dee4"
      },
      "outputs": [],
      "source": [
        "import matplotlib.pyplot as plt"
      ]
    },
    {
      "cell_type": "code",
      "execution_count": null,
      "id": "ced3699d-9f40-4f74-83e9-c2bf7acedeb8",
      "metadata": {
        "id": "ced3699d-9f40-4f74-83e9-c2bf7acedeb8"
      },
      "outputs": [],
      "source": [
        "training_loss = history.history['loss']\n",
        "test_loss = history.history['val_loss']"
      ]
    },
    {
      "cell_type": "code",
      "execution_count": null,
      "id": "bb63612e-2add-4359-b982-a7ebc6fbefcf",
      "metadata": {
        "id": "bb63612e-2add-4359-b982-a7ebc6fbefcf"
      },
      "outputs": [],
      "source": [
        "epoch_count = range(1, len(training_loss)+1)"
      ]
    },
    {
      "cell_type": "code",
      "execution_count": null,
      "id": "466a5f59-6b07-4ae5-b7f9-7d2cf4dbbff6",
      "metadata": {
        "colab": {
          "base_uri": "https://localhost:8080/",
          "height": 312
        },
        "id": "466a5f59-6b07-4ae5-b7f9-7d2cf4dbbff6",
        "outputId": "1992d181-1a00-467a-fae7-80cf5b45f058"
      },
      "outputs": [
        {
          "output_type": "execute_result",
          "data": {
            "text/plain": [
              "<matplotlib.legend.Legend at 0x7f4c4adfb160>"
            ]
          },
          "metadata": {},
          "execution_count": 20
        },
        {
          "output_type": "display_data",
          "data": {
            "text/plain": [
              "<Figure size 432x288 with 1 Axes>"
            ],
            "image/png": "[encoded data removed]"
          },
          "metadata": {
            "needs_background": "light"
          }
        }
      ],
      "source": [
        "plt.plot(epoch_count, training_loss)\n",
        "plt.plot(epoch_count, test_loss)\n",
        "plt.title('Loss history')\n",
        "plt.xlabel('Epoch')\n",
        "plt.ylabel('Loss')\n",
        "plt.legend(['Train', 'Test'])"
      ]
    },
    {
      "cell_type": "code",
      "execution_count": null,
      "id": "a0bf8f26-8de2-49b4-b8fc-a293b81ce32e",
      "metadata": {
        "id": "a0bf8f26-8de2-49b4-b8fc-a293b81ce32e"
      },
      "outputs": [],
      "source": [
        "training_acc = history.history['accuracy']\n",
        "test_acc = history.history['val_accuracy']"
      ]
    },
    {
      "cell_type": "code",
      "execution_count": null,
      "id": "7454da19-f663-47bf-b0a4-ba1e20eaf79e",
      "metadata": {
        "colab": {
          "base_uri": "https://localhost:8080/",
          "height": 312
        },
        "id": "7454da19-f663-47bf-b0a4-ba1e20eaf79e",
        "outputId": "42b98e4e-6a6c-4e48-8718-f5c5275da304"
      },
      "outputs": [
        {
          "output_type": "execute_result",
          "data": {
            "text/plain": [
              "<matplotlib.legend.Legend at 0x7f4c4c0b49d0>"
            ]
          },
          "metadata": {},
          "execution_count": 22
        },
        {
          "output_type": "display_data",
          "data": {
            "text/plain": [
              "<Figure size 432x288 with 1 Axes>"
            ],
            "image/png": "[encoded data removed]"
          },
          "metadata": {
            "needs_background": "light"
          }
        }
      ],
      "source": [
        "plt.plot(epoch_count, training_acc)\n",
        "plt.plot(epoch_count, test_acc)\n",
        "plt.title('Accuracy history')\n",
        "plt.xlabel('Epoch')\n",
        "plt.ylabel('Accuracy')\n",
        "plt.legend(['Train', 'Test'])"
      ]
    },
    {
      "cell_type": "code",
      "execution_count": null,
      "id": "ca91dfa3-945b-4493-bed8-7e184941b686",
      "metadata": {
        "id": "ca91dfa3-945b-4493-bed8-7e184941b686"
      },
      "outputs": [],
      "source": []
    }
  ],
  "metadata": {
    "kernelspec": {
      "display_name": "Python 3",
      "language": "python",
      "name": "python3"
    },
    "language_info": {
      "codemirror_mode": {
        "name": "ipython",
        "version": 3
      },
      "file_extension": ".py",
      "mimetype": "text/x-python",
      "name": "python",
      "nbconvert_exporter": "python",
      "pygments_lexer": "ipython3",
      "version": "3.8.8"
    },
    "colab": {
      "provenance": [],
      "include_colab_link": true
    }
  },
  "nbformat": 4,
  "nbformat_minor": 5
}