{
 "cells": [
  {
   "cell_type": "code",
   "execution_count": 1,
   "id": "731e0c42-1983-4e15-9786-0fb69e2d2992",
   "metadata": {},
   "outputs": [],
   "source": [
    "import torch"
   ]
  },
  {
   "cell_type": "code",
   "execution_count": 2,
   "id": "8d0f432e-34aa-422a-86ff-bf1ae0b481bd",
   "metadata": {},
   "outputs": [],
   "source": [
    "# Prediction: manually + PyTorch model\n",
    "# Gradients computation: manually + Autograd\n",
    "# Loss computation: manually + PyTorch Loss\n",
    "# Parameter updates: manually + Pytorch Optimizer"
   ]
  },
  {
   "cell_type": "markdown",
   "id": "5f12655c",
   "metadata": {},
   "source": [
    "### Linear regression\n",
    "**With Numpy**"
   ]
  },
  {
   "cell_type": "code",
   "execution_count": 3,
   "id": "ad161f8d-c77b-4ab6-bcf6-bf7c6aefbdf3",
   "metadata": {},
   "outputs": [],
   "source": [
    "import numpy as np"
   ]
  },
  {
   "cell_type": "code",
   "execution_count": 4,
   "id": "75cf218f-cb60-49c4-baf1-3b0bd03efbf2",
   "metadata": {},
   "outputs": [],
   "source": [
    "# f = w * x = 2 *x"
   ]
  },
  {
   "cell_type": "code",
   "execution_count": 5,
   "id": "6fde8be8-4a24-4611-9f78-4d7d42e39f97",
   "metadata": {},
   "outputs": [],
   "source": [
    "X = np.array([1,2,3,4],dtype=np.float32)\n",
    "Y = np.array([2,4,6,8],dtype=np.float32)\n",
    "w = 0.0"
   ]
  },
  {
   "cell_type": "code",
   "execution_count": 6,
   "id": "19781cc6-ba78-4cdd-9cff-4a0fd20fb78e",
   "metadata": {},
   "outputs": [],
   "source": [
    "# model prediction \n",
    "def forward(x):\n",
    "    return w *x"
   ]
  },
  {
   "cell_type": "code",
   "execution_count": 7,
   "id": "b4d399d5-5624-42f6-b726-faf11435b13f",
   "metadata": {},
   "outputs": [],
   "source": [
    "# Loss = MSE = 1/N * (w*x-y)**2\n",
    "def loss(y,y_predicted):\n",
    "    return (((y_predicted - y)**2).mean())"
   ]
  },
  {
   "cell_type": "code",
   "execution_count": 8,
   "id": "6401889e-807a-4470-b0dd-5a2dd8e9d624",
   "metadata": {},
   "outputs": [],
   "source": [
    "# gradient \n",
    "# dJ/dw = 1/N * 2*x*(w*x-y)\n",
    "def gradient(x,y,y_predicted):\n",
    "    return np.dot(2*x,y_predicted - y).mean()"
   ]
  },
  {
   "cell_type": "code",
   "execution_count": 9,
   "id": "85c3f0a1-88d7-434a-89d7-326e1cbcbecb",
   "metadata": {},
   "outputs": [
    {
     "name": "stdout",
     "output_type": "stream",
     "text": [
      "Prediction before training: f(5) = 0.000\n"
     ]
    }
   ],
   "source": [
    "print(f'Prediction before training: f(5) = {forward(5):.3f}')"
   ]
  },
  {
   "cell_type": "code",
   "execution_count": 10,
   "id": "793eaced-b38d-40f3-8960-6e8fb2f8c5fc",
   "metadata": {},
   "outputs": [
    {
     "name": "stdout",
     "output_type": "stream",
     "text": [
      "epoch 1: w = 1.200, Loss = 30.00000000\n",
      "epoch 2: w = 1.680, Loss = 4.79999924\n",
      "epoch 3: w = 1.872, Loss = 0.76800019\n",
      "epoch 4: w = 1.949, Loss = 0.12288000\n",
      "epoch 5: w = 1.980, Loss = 0.01966083\n",
      "epoch 6: w = 1.992, Loss = 0.00314570\n",
      "epoch 7: w = 1.997, Loss = 0.00050332\n",
      "epoch 8: w = 1.999, Loss = 0.00008053\n",
      "epoch 9: w = 1.999, Loss = 0.00001288\n",
      "epoch 10: w = 2.000, Loss = 0.00000206\n",
      "Prediction after training f(5) = 9.999\n"
     ]
    }
   ],
   "source": [
    "# Training\n",
    "learning_rate = 0.01\n",
    "n_iters = 10\n",
    "# n_iters = 20\n",
    "for epoch in range(n_iters):\n",
    "    # Prediction = forward pass\n",
    "    y_pred = forward(X)\n",
    "    # Loss\n",
    "    l = loss(Y,y_pred)\n",
    "    # Gradient\n",
    "    dw = gradient(X,Y,y_pred)\n",
    "    # Update weights\n",
    "    w -= learning_rate * dw\n",
    "    if epoch % 1 == 0:\n",
    "    # if epoch % 2 == 0:\n",
    "        print(f'epoch {epoch +1}: w = {w:.3f}, Loss = {l:.8f}')\n",
    "print(f'Prediction after training f(5) = {forward(5):.3f}')"
   ]
  },
  {
   "cell_type": "markdown",
   "id": "fdec1678",
   "metadata": {},
   "source": [
    "**With PyTorch**\n",
    "* Gradienst computation: Autograd"
   ]
  },
  {
   "cell_type": "code",
   "execution_count": 11,
   "id": "5856de6c",
   "metadata": {},
   "outputs": [],
   "source": [
    "X = torch.tensor([1,2,3,4],dtype=torch.float32)\n",
    "Y = torch.tensor([2,4,6,8],dtype=torch.float32)\n",
    "w = torch.tensor(0.0, dtype=torch.float32, requires_grad = True)"
   ]
  },
  {
   "cell_type": "code",
   "execution_count": 12,
   "id": "eecb1a89",
   "metadata": {},
   "outputs": [],
   "source": [
    "# Model prediction\n",
    "def forward(x):\n",
    "    return w * x"
   ]
  },
  {
   "cell_type": "code",
   "execution_count": 13,
   "id": "b88b7034",
   "metadata": {},
   "outputs": [],
   "source": [
    "# Loss = MSE\n",
    "def loss(y, y_predicted):\n",
    "    return ((y_predicted - y)**2).mean()"
   ]
  },
  {
   "cell_type": "code",
   "execution_count": 14,
   "id": "c08dd4c9",
   "metadata": {},
   "outputs": [
    {
     "name": "stdout",
     "output_type": "stream",
     "text": [
      "Prediction before training f(5) = 0.000\n"
     ]
    }
   ],
   "source": [
    "print(f'Prediction before training f(5) = {forward(5):.3f}')"
   ]
  },
  {
   "cell_type": "code",
   "execution_count": 16,
   "id": "dabacb3a",
   "metadata": {},
   "outputs": [
    {
     "name": "stdout",
     "output_type": "stream",
     "text": [
      "epoch 1: w = 0.300, Loss = 30.00000000\n",
      "epoch 11: w = 1.665, Loss = 1.16278565\n",
      "epoch 21: w = 1.934, Loss = 0.04506890\n",
      "epoch 31: w = 1.987, Loss = 0.00174685\n",
      "epoch 41: w = 1.997, Loss = 0.00006770\n",
      "epoch 51: w = 1.999, Loss = 0.00000262\n",
      "epoch 61: w = 2.000, Loss = 0.00000010\n",
      "epoch 71: w = 2.000, Loss = 0.00000000\n",
      "epoch 81: w = 2.000, Loss = 0.00000000\n",
      "epoch 91: w = 2.000, Loss = 0.00000000\n",
      "Prediction after training f(5) = 10.000\n"
     ]
    }
   ],
   "source": [
    "# Training\n",
    "learning_rate = 0.01\n",
    "# n_iters = 10\n",
    "n_iters = 100\n",
    "for epoch in range(n_iters):\n",
    "    # Prediction = forward pass\n",
    "    y_pred = forward(X)\n",
    "    # Loss\n",
    "    l = loss(Y,y_pred)\n",
    "    # Gradient = backward pass\n",
    "    l.backward() # dLoss/dw\n",
    "    # Update weights\n",
    "    with torch.no_grad():\n",
    "        w -= learning_rate * w.grad\n",
    "        # zero gradients\n",
    "        w.grad.zero_()\n",
    "    # if epoch % 1 == 0:\n",
    "    if epoch % 10 == 0:\n",
    "        print(f'epoch {epoch +1}: w = {w:.3f}, Loss = {l:.8f}')\n",
    "print(f'Prediction after training f(5) = {forward(5):.3f}')"
   ]
  },
  {
   "cell_type": "markdown",
   "id": "4c2e1894",
   "metadata": {},
   "source": [
    "* Prediction: PyTorch Model\n",
    "* Loss Computation: PyTorch Loss\n",
    "* Parameter updates: Pytorch Optimizer\n",
    "\n",
    "1. Design model (input, output size, forward pass)\n",
    "2. Construct loss and optimizer\n",
    "3. Training loop\n",
    "\n",
    "* forward pass: compute prediction\n",
    "* backward pass: gradients\n",
    "* update weights"
   ]
  },
  {
   "cell_type": "code",
   "execution_count": 17,
   "id": "ebca13d5",
   "metadata": {},
   "outputs": [],
   "source": [
    "import torch.nn as nn"
   ]
  },
  {
   "cell_type": "code",
   "execution_count": 18,
   "id": "01a4f9b8",
   "metadata": {},
   "outputs": [],
   "source": [
    "X = torch.tensor([[1],[2],[3],[4]],dtype=torch.float32)\n",
    "Y = torch.tensor([[2],[4],[6],[8]],dtype=torch.float32)"
   ]
  },
  {
   "cell_type": "code",
   "execution_count": 19,
   "id": "d8b8e31c",
   "metadata": {},
   "outputs": [],
   "source": [
    "X_test = torch.tensor([5],dtype= torch.float32)"
   ]
  },
  {
   "cell_type": "code",
   "execution_count": 20,
   "id": "ccfa42d5",
   "metadata": {},
   "outputs": [
    {
     "name": "stdout",
     "output_type": "stream",
     "text": [
      "4 1\n"
     ]
    }
   ],
   "source": [
    "n_samples, n_features = X.shape\n",
    "print(n_samples, n_features)"
   ]
  },
  {
   "cell_type": "code",
   "execution_count": 21,
   "id": "dbad57c2",
   "metadata": {},
   "outputs": [],
   "source": [
    "input_size = n_features\n",
    "output_size = n_features"
   ]
  },
  {
   "cell_type": "code",
   "execution_count": 22,
   "id": "f50d8f69",
   "metadata": {},
   "outputs": [],
   "source": [
    "# Model prediction\n",
    "# model = nn.Linear(input_size, output_size)"
   ]
  },
  {
   "cell_type": "code",
   "execution_count": 23,
   "id": "91adb956",
   "metadata": {},
   "outputs": [],
   "source": [
    "class LinearRegression(nn.Module):\n",
    "    \n",
    "    def __init__(self, input_dim, output_dim):\n",
    "        \"\"\"\n",
    "        Le \"__init__\" est une méthode réservée dans les classes python. \n",
    "        Elle est connue sous le nom de constructeur dans la terminologie orientée objet. \n",
    "        Cette méthode, lorsqu'elle est appelée, permet à la classe d'initialiser ses attributs.\n",
    "        \"\"\"\n",
    "        super(LinearRegression, self).__init__()\n",
    "        # define layers\n",
    "        self.lin = nn.Linear(input_dim, output_dim)\n",
    "        \"\"\"\n",
    "        La fonction super() nous permet d'éviter d'utiliser explicitement le nom de la classe de base. \n",
    "        En Python, la fonction super() est appelée dynamiquement, contrairement à d'autres langages, \n",
    "        car il s'agit d'un langage dynamique. La fonction super() renvoie un objet qui représente la classe mère.\n",
    "        \"\"\"\n",
    "        \n",
    "    def forward(self, x):\n",
    "        return self.lin(x)\n",
    "    \n",
    "model = LinearRegression(input_size, output_size)"
   ]
  },
  {
   "cell_type": "code",
   "execution_count": 24,
   "id": "4aca5ba2",
   "metadata": {},
   "outputs": [
    {
     "name": "stdout",
     "output_type": "stream",
     "text": [
      "Prediction before training f(5) = 2.446\n"
     ]
    }
   ],
   "source": [
    "print(f'Prediction before training f(5) = {model(X_test).item():.3f}')"
   ]
  },
  {
   "cell_type": "code",
   "execution_count": 25,
   "id": "8aa0e0b2",
   "metadata": {},
   "outputs": [
    {
     "name": "stdout",
     "output_type": "stream",
     "text": [
      "epoch 1: w = 0.922, Loss = 20.21694946\n",
      "epoch 11: w = 1.947, Loss = 0.55228329\n",
      "epoch 21: w = 2.108, Loss = 0.04181056\n",
      "epoch 31: w = 2.130, Loss = 0.02700158\n",
      "epoch 41: w = 2.131, Loss = 0.02510972\n",
      "epoch 51: w = 2.127, Loss = 0.02363996\n",
      "epoch 61: w = 2.124, Loss = 0.02226374\n",
      "epoch 71: w = 2.120, Loss = 0.02096791\n",
      "epoch 81: w = 2.117, Loss = 0.01974747\n",
      "epoch 91: w = 2.113, Loss = 0.01859808\n",
      "Prediction after training f(5) = 10.227\n"
     ]
    }
   ],
   "source": [
    "# Training\n",
    "learning_rate = 0.01\n",
    "n_iters = 100\n",
    "\n",
    "loss = nn.MSELoss()\n",
    "optimizer = torch.optim.SGD(model.parameters(), lr=learning_rate)\n",
    "\n",
    "for epoch in range(n_iters):\n",
    "    # Prediction = forward pass\n",
    "    y_pred = model(X)\n",
    "    # Loss\n",
    "    l = loss(Y,y_pred)\n",
    "    # Gradient = backward pass\n",
    "    l.backward() #\n",
    "    # Update weights\n",
    "    optimizer.step()\n",
    "    # zero gradients\n",
    "    optimizer.zero_grad()\n",
    "    \n",
    "    if epoch % 10 == 0:\n",
    "        [w,b] = model.parameters()\n",
    "        print(f'epoch {epoch +1}: w = {w[0][0]:.3f}, Loss = {l:.8f}')\n",
    "print(f'Prediction after training f(5) = {model(X_test).item():.3f}')"
   ]
  },
  {
   "cell_type": "markdown",
   "id": "dc02f4f6",
   "metadata": {},
   "source": [
    "**With datasets**"
   ]
  },
  {
   "cell_type": "code",
   "execution_count": 27,
   "id": "4497e904",
   "metadata": {},
   "outputs": [
    {
     "name": "stdout",
     "output_type": "stream",
     "text": [
      "Collecting scikit-learn\n",
      "  Downloading scikit_learn-1.2.2-cp310-cp310-manylinux_2_17_x86_64.manylinux2014_x86_64.whl (9.6 MB)\n",
      "\u001b[2K     \u001b[38;2;114;156;31m━━━━━━━━━━━━━━━━━━━━━━━━━━━━━━━━━━━━━━━━\u001b[0m \u001b[32m9.6/9.6 MB\u001b[0m \u001b[31m194.3 kB/s\u001b[0m eta \u001b[36m0:00:00\u001b[0mm eta \u001b[36m0:00:01\u001b[0m[36m0:00:02\u001b[0m\n",
      "\u001b[?25hRequirement already satisfied: scipy>=1.3.2 in /home/bassem/anaconda3/envs/torch/lib/python3.10/site-packages (from scikit-learn) (1.10.1)\n",
      "Requirement already satisfied: numpy>=1.17.3 in /home/bassem/anaconda3/envs/torch/lib/python3.10/site-packages (from scikit-learn) (1.23.5)\n",
      "Collecting threadpoolctl>=2.0.0\n",
      "  Downloading threadpoolctl-3.1.0-py3-none-any.whl (14 kB)\n",
      "Collecting joblib>=1.1.1\n",
      "  Downloading joblib-1.2.0-py3-none-any.whl (297 kB)\n",
      "\u001b[2K     \u001b[38;2;114;156;31m━━━━━━━━━━━━━━━━━━━━━━━━━━━━━━━━━━━━━\u001b[0m \u001b[32m298.0/298.0 kB\u001b[0m \u001b[31m324.0 kB/s\u001b[0m eta \u001b[36m0:00:00\u001b[0mm eta \u001b[36m0:00:01\u001b[0m0:01\u001b[0m:01\u001b[0m\n",
      "\u001b[?25hInstalling collected packages: threadpoolctl, joblib, scikit-learn\n",
      "Successfully installed joblib-1.2.0 scikit-learn-1.2.2 threadpoolctl-3.1.0\n"
     ]
    }
   ],
   "source": [
    "!pip install -U scikit-learn"
   ]
  },
  {
   "cell_type": "code",
   "execution_count": 28,
   "id": "d6334f05",
   "metadata": {},
   "outputs": [],
   "source": [
    "from sklearn import datasets\n",
    "import matplotlib.pyplot as plt"
   ]
  },
  {
   "cell_type": "code",
   "execution_count": 29,
   "id": "2fa4bb1e",
   "metadata": {},
   "outputs": [],
   "source": [
    "X_numpy, y_numpy = datasets.make_regression(n_samples = 100, n_features=1, noise=20, random_state=1)"
   ]
  },
  {
   "cell_type": "code",
   "execution_count": 30,
   "id": "a6078e7d",
   "metadata": {},
   "outputs": [],
   "source": [
    "X = torch.from_numpy(X_numpy.astype(np.float32))\n",
    "y = torch.from_numpy(y_numpy.astype(np.float32))"
   ]
  },
  {
   "cell_type": "code",
   "execution_count": 32,
   "id": "680fde72",
   "metadata": {},
   "outputs": [
    {
     "data": {
      "text/plain": [
       "torch.Size([100])"
      ]
     },
     "execution_count": 32,
     "metadata": {},
     "output_type": "execute_result"
    }
   ],
   "source": [
    "y.size()"
   ]
  },
  {
   "cell_type": "code",
   "execution_count": 33,
   "id": "7174356c",
   "metadata": {},
   "outputs": [],
   "source": [
    "y = y.view(y.shape[0],1)"
   ]
  },
  {
   "cell_type": "code",
   "execution_count": 34,
   "id": "d4d37fa0",
   "metadata": {},
   "outputs": [
    {
     "data": {
      "text/plain": [
       "torch.Size([100, 1])"
      ]
     },
     "execution_count": 34,
     "metadata": {},
     "output_type": "execute_result"
    }
   ],
   "source": [
    "y.size()"
   ]
  },
  {
   "cell_type": "markdown",
   "id": "396bd3ed",
   "metadata": {},
   "source": [
    "1. Model"
   ]
  },
  {
   "cell_type": "code",
   "execution_count": 35,
   "id": "815943ed",
   "metadata": {},
   "outputs": [],
   "source": [
    "imput_size = n_features\n",
    "output_size = 1\n",
    "model = nn.Linear(input_size, output_size)"
   ]
  },
  {
   "cell_type": "markdown",
   "id": "586aa1bb",
   "metadata": {},
   "source": [
    "2. Loss and Optimizer"
   ]
  },
  {
   "cell_type": "code",
   "execution_count": 36,
   "id": "0a262d7a",
   "metadata": {},
   "outputs": [],
   "source": [
    "learning_rate = 0.01\n",
    "criterion = nn.MSELoss()\n",
    "optimizer = torch.optim.SGD(model.parameters(),lr = learning_rate)"
   ]
  },
  {
   "cell_type": "markdown",
   "id": "45bc7aa5",
   "metadata": {},
   "source": [
    "3. Training loop"
   ]
  },
  {
   "cell_type": "code",
   "execution_count": 37,
   "id": "71ad5468",
   "metadata": {},
   "outputs": [
    {
     "name": "stdout",
     "output_type": "stream",
     "text": [
      "epoch: 10, loss = 4456.1255\n",
      "epoch: 20, loss = 3321.8640\n",
      "epoch: 30, loss = 2501.6086\n",
      "epoch: 40, loss = 1907.7740\n",
      "epoch: 50, loss = 1477.4191\n",
      "epoch: 60, loss = 1165.2422\n",
      "epoch: 70, loss = 938.5926\n",
      "epoch: 80, loss = 773.9054\n",
      "epoch: 90, loss = 654.1516\n",
      "epoch: 100, loss = 567.0126\n"
     ]
    }
   ],
   "source": [
    "num_epochs = 100\n",
    "\n",
    "for epoch in range(num_epochs):\n",
    "    # forward pass and loss\n",
    "    y_predicted = model(X)\n",
    "    loss = criterion(y_predicted,y)\n",
    "    # backward pass\n",
    "    loss.backward()\n",
    "    #update\n",
    "    optimizer.step()\n",
    "    optimizer.zero_grad()\n",
    "    \n",
    "    if (epoch+1) % 10 == 0:\n",
    "        print(f'epoch: {epoch +1}, loss = {loss.item():.4f}')"
   ]
  },
  {
   "cell_type": "code",
   "execution_count": 39,
   "id": "31b175c6",
   "metadata": {},
   "outputs": [
    {
     "data": {
      "text/plain": [
       "[<matplotlib.lines.Line2D at 0x7f80121362f0>]"
      ]
     },
     "execution_count": 39,
     "metadata": {},
     "output_type": "execute_result"
    },
    {
     "data": {
      "image/png": "[encoded data removed]",
      "text/plain": [
       "<Figure size 640x480 with 1 Axes>"
      ]
     },
     "metadata": {},
     "output_type": "display_data"
    }
   ],
   "source": [
    "# plot\n",
    "predicted = model(X).detach().numpy()\n",
    "plt.plot(X_numpy, y_numpy, 'ro')\n",
    "plt.plot(X_numpy, predicted, 'b')"
   ]
  },
  {
   "cell_type": "code",
   "execution_count": null,
   "id": "c92b3fc6",
   "metadata": {},
   "outputs": [],
   "source": []
  }
 ],
 "metadata": {
  "kernelspec": {
   "display_name": "Python 3 (ipykernel)",
   "language": "python",
   "name": "python3"
  },
  "language_info": {
   "codemirror_mode": {
    "name": "ipython",
    "version": 3
   },
   "file_extension": ".py",
   "mimetype": "text/x-python",
   "name": "python",
   "nbconvert_exporter": "python",
   "pygments_lexer": "ipython3",
   "version": "3.10.9"
  }
 },
 "nbformat": 4,
 "nbformat_minor": 5
}
