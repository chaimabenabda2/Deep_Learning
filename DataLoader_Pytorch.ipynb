{
 "cells": [
  {
   "cell_type": "markdown",
   "id": "fb9bb1dd",
   "metadata": {},
   "source": [
    "* epoch\n",
    "* batch_size\n",
    "* n_iterations"
   ]
  },
  {
   "cell_type": "code",
   "execution_count": 3,
   "id": "f92eba7b",
   "metadata": {},
   "outputs": [],
   "source": [
    "import torch\n",
    "import torchvision\n",
    "from torch.utils.data import DataLoader\n",
    "import numpy as np"
   ]
  },
  {
   "cell_type": "code",
   "execution_count": 6,
   "id": "03f3e37e",
   "metadata": {},
   "outputs": [
    {
     "name": "stdout",
     "output_type": "stream",
     "text": [
      "['RowNumber', 'CustomerId', 'Surname', 'CreditScore', 'Geography', 'Gender', 'Age', 'Tenure', 'Balance', 'NumOfProducts', 'HasCrCard', 'IsActiveMember', 'EstimatedSalary', 'Exited']\n"
     ]
    }
   ],
   "source": [
    "import pandas as pd\n",
    "df = pd.read_csv('Churn_Modelling.csv')\n",
    "print(df.columns.to_list())"
   ]
  },
  {
   "cell_type": "code",
   "execution_count": 8,
   "id": "bb444ca6",
   "metadata": {},
   "outputs": [],
   "source": [
    "my_list = ['CreditScore', 'Age', 'Tenure', 'Balance', 'NumOfProducts', 'HasCrCard', 'IsActiveMember', 'EstimatedSalary', 'Exited']"
   ]
  },
  {
   "cell_type": "code",
   "execution_count": 9,
   "id": "be389e0b",
   "metadata": {},
   "outputs": [],
   "source": [
    "df = df[my_list]\n",
    "df.to_csv('Churn.csv', index = False)"
   ]
  },
  {
   "cell_type": "code",
   "execution_count": 11,
   "id": "e3853d82",
   "metadata": {},
   "outputs": [
    {
     "data": {
      "text/plain": [
       "(10000, 9)"
      ]
     },
     "execution_count": 11,
     "metadata": {},
     "output_type": "execute_result"
    }
   ],
   "source": [
    "df.shape"
   ]
  },
  {
   "cell_type": "code",
   "execution_count": 12,
   "id": "859f1063",
   "metadata": {},
   "outputs": [],
   "source": [
    "class ChurnDataset():\n",
    "    \n",
    "    def __init__(self):\n",
    "        xy = np.loadtxt('Churn.csv', delimiter = ',',dtype=np.float32, skiprows=1)\n",
    "        self.x = torch.from_numpy(xy[:,0:8])\n",
    "        self.y = torch.from_numpy(xy[:,[8]])\n",
    "        self.n_samples = xy.shape[0]\n",
    "        \n",
    "    def __getitem__(self,index):\n",
    "        # permet aux objets de cette classe d'utiliser l'opérateur d'indexation\n",
    "        return self.x[index], self.y[index]\n",
    "    \n",
    "    def __len__(self):\n",
    "        # permet aux objets de cette classe d'utiliser la fonction length\n",
    "        return self.n_samples"
   ]
  },
  {
   "cell_type": "code",
   "execution_count": 13,
   "id": "12a32977",
   "metadata": {},
   "outputs": [
    {
     "data": {
      "text/plain": [
       "__main__.ChurnDataset"
      ]
     },
     "execution_count": 13,
     "metadata": {},
     "output_type": "execute_result"
    }
   ],
   "source": [
    "dataset = ChurnDataset()\n",
    "type(dataset)"
   ]
  },
  {
   "cell_type": "code",
   "execution_count": 14,
   "id": "d09ad25f",
   "metadata": {},
   "outputs": [
    {
     "name": "stdout",
     "output_type": "stream",
     "text": [
      "tensor([6.1900e+02, 4.2000e+01, 2.0000e+00, 0.0000e+00, 1.0000e+00, 1.0000e+00,\n",
      "        1.0000e+00, 1.0135e+05]) tensor([1.])\n"
     ]
    }
   ],
   "source": [
    "first_data = dataset[0]\n",
    "features, labels = first_data\n",
    "print(features,labels)"
   ]
  },
  {
   "cell_type": "code",
   "execution_count": 15,
   "id": "0c88fe93",
   "metadata": {},
   "outputs": [],
   "source": [
    "dataloader = DataLoader(dataset = dataset, batch_size=10,shuffle =True,num_workers=2)"
   ]
  },
  {
   "cell_type": "code",
   "execution_count": 16,
   "id": "41dc9158",
   "metadata": {},
   "outputs": [
    {
     "name": "stdout",
     "output_type": "stream",
     "text": [
      "tensor([[5.2400e+02, 2.9000e+01, 3.0000e+00, 1.5904e+05, 1.0000e+00, 1.0000e+00,\n",
      "         0.0000e+00, 2.7053e+03],\n",
      "        [5.4900e+02, 3.4000e+01, 6.0000e+00, 2.0402e+05, 2.0000e+00, 1.0000e+00,\n",
      "         0.0000e+00, 1.0954e+05],\n",
      "        [6.1600e+02, 2.9000e+01, 8.0000e+00, 1.4932e+05, 1.0000e+00, 1.0000e+00,\n",
      "         0.0000e+00, 1.4075e+05],\n",
      "        [6.8400e+02, 3.4000e+01, 9.0000e+00, 0.0000e+00, 2.0000e+00, 1.0000e+00,\n",
      "         1.0000e+00, 6.5258e+04],\n",
      "        [5.6300e+02, 4.1000e+01, 2.0000e+00, 1.0052e+05, 1.0000e+00, 1.0000e+00,\n",
      "         1.0000e+00, 1.9413e+04],\n",
      "        [7.1400e+02, 4.9000e+01, 4.0000e+00, 9.3059e+04, 1.0000e+00, 1.0000e+00,\n",
      "         0.0000e+00, 7.5715e+03],\n",
      "        [7.2800e+02, 4.5000e+01, 3.0000e+00, 1.0892e+05, 2.0000e+00, 1.0000e+00,\n",
      "         0.0000e+00, 8.4300e+04],\n",
      "        [7.0000e+02, 4.2000e+01, 8.0000e+00, 0.0000e+00, 2.0000e+00, 1.0000e+00,\n",
      "         1.0000e+00, 1.0531e+05],\n",
      "        [6.3000e+02, 3.4000e+01, 9.0000e+00, 1.0694e+05, 2.0000e+00, 1.0000e+00,\n",
      "         0.0000e+00, 1.3828e+05],\n",
      "        [6.5000e+02, 3.7000e+01, 5.0000e+00, 1.0697e+05, 1.0000e+00, 0.0000e+00,\n",
      "         0.0000e+00, 2.4495e+04]]) tensor([[1.],\n",
      "        [0.],\n",
      "        [0.],\n",
      "        [0.],\n",
      "        [1.],\n",
      "        [1.],\n",
      "        [1.],\n",
      "        [0.],\n",
      "        [0.],\n",
      "        [0.]])\n"
     ]
    }
   ],
   "source": [
    "dataiter = iter(dataloader)\n",
    "data = next(dataiter)\n",
    "features, labels = data\n",
    "print(features,labels)"
   ]
  },
  {
   "cell_type": "code",
   "execution_count": 17,
   "id": "75cc81ca",
   "metadata": {},
   "outputs": [
    {
     "name": "stdout",
     "output_type": "stream",
     "text": [
      "10000 1000.0\n"
     ]
    }
   ],
   "source": [
    "# Training loop\n",
    "num_epochs = 3\n",
    "total_samples = len(dataset)\n",
    "n_iterations = total_samples / 10\n",
    "print(total_samples, n_iterations)"
   ]
  },
  {
   "cell_type": "code",
   "execution_count": 20,
   "id": "d2e90737",
   "metadata": {},
   "outputs": [
    {
     "name": "stdout",
     "output_type": "stream",
     "text": [
      "epoch 1/3, step 200/1000.0, inputs torch.Size([10, 8])\n",
      "epoch 1/3, step 400/1000.0, inputs torch.Size([10, 8])\n",
      "epoch 1/3, step 600/1000.0, inputs torch.Size([10, 8])\n",
      "epoch 1/3, step 800/1000.0, inputs torch.Size([10, 8])\n",
      "epoch 1/3, step 1000/1000.0, inputs torch.Size([10, 8])\n",
      "epoch 2/3, step 200/1000.0, inputs torch.Size([10, 8])\n",
      "epoch 2/3, step 400/1000.0, inputs torch.Size([10, 8])\n",
      "epoch 2/3, step 600/1000.0, inputs torch.Size([10, 8])\n",
      "epoch 2/3, step 800/1000.0, inputs torch.Size([10, 8])\n",
      "epoch 2/3, step 1000/1000.0, inputs torch.Size([10, 8])\n",
      "epoch 3/3, step 200/1000.0, inputs torch.Size([10, 8])\n",
      "epoch 3/3, step 400/1000.0, inputs torch.Size([10, 8])\n",
      "epoch 3/3, step 600/1000.0, inputs torch.Size([10, 8])\n",
      "epoch 3/3, step 800/1000.0, inputs torch.Size([10, 8])\n",
      "epoch 3/3, step 1000/1000.0, inputs torch.Size([10, 8])\n"
     ]
    }
   ],
   "source": [
    "for epoch in range(num_epochs):\n",
    "    for i, (inputs,targets) in enumerate(dataloader):\n",
    "        if (i+1) % 200 == 0:\n",
    "            print(f'epoch {epoch+1}/{num_epochs}, step {i+1}/{n_iterations}, inputs {inputs.shape}')"
   ]
  },
  {
   "cell_type": "code",
   "execution_count": null,
   "id": "9a14b5bd",
   "metadata": {},
   "outputs": [],
   "source": []
  }
 ],
 "metadata": {
  "kernelspec": {
   "display_name": "Python 3 (ipykernel)",
   "language": "python",
   "name": "python3"
  },
  "language_info": {
   "codemirror_mode": {
    "name": "ipython",
    "version": 3
   },
   "file_extension": ".py",
   "mimetype": "text/x-python",
   "name": "python",
   "nbconvert_exporter": "python",
   "pygments_lexer": "ipython3",
   "version": "3.10.9"
  }
 },
 "nbformat": 4,
 "nbformat_minor": 5
}
