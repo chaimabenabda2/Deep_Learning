{
  "cells": [
    {
      "cell_type": "markdown",
      "metadata": {
        "id": "view-in-github",
        "colab_type": "text"
      },
      "source": [
        "<a href=\"https://colab.research.google.com/github/chaimabenabda2/Deep_Learning/blob/main/minist.ipynb\" target=\"_parent\"><img src=\"https://colab.research.google.com/assets/colab-badge.svg\" alt=\"Open In Colab\"/></a>"
      ]
    },
    {
      "cell_type": "code",
      "execution_count": null,
      "metadata": {
        "id": "06989be6"
      },
      "outputs": [],
      "source": [
        "import numpy as np\n",
        "import matplotlib.pyplot as plt\n",
        "import warnings\n",
        "warnings.filterwarnings('ignore')"
      ],
      "id": "06989be6"
    },
    {
      "cell_type": "code",
      "execution_count": null,
      "metadata": {
        "id": "bc528d85"
      },
      "outputs": [],
      "source": [
        "from tensorflow import keras\n",
        "from tensorflow.keras.datasets import mnist\n",
        "from tensorflow.keras.models import Sequential, load_model\n",
        "from tensorflow.keras.layers import Dense, Dropout, Activation\n",
        "from tensorflow.keras.utils import to_categorical"
      ],
      "id": "bc528d85"
    },
    {
      "cell_type": "code",
      "execution_count": null,
      "metadata": {
        "colab": {
          "base_uri": "https://localhost:8080/"
        },
        "id": "66bdc660",
        "outputId": "dd4647e2-f139-4c03-bb21-a9d031d1d150"
      },
      "outputs": [
        {
          "output_type": "stream",
          "name": "stdout",
          "text": [
            "Downloading data from https://storage.googleapis.com/tensorflow/tf-keras-datasets/mnist.npz\n",
            "11490434/11490434 [==============================] - 0s 0us/step\n"
          ]
        }
      ],
      "source": [
        "(X_train,y_train),(X_test,y_test) = mnist.load_data()"
      ],
      "id": "66bdc660"
    },
    {
      "cell_type": "code",
      "execution_count": null,
      "metadata": {
        "colab": {
          "base_uri": "https://localhost:8080/"
        },
        "id": "8b8af611",
        "outputId": "d727f523-b7bf-4bd5-ccc7-fde64ad45c9f"
      },
      "outputs": [
        {
          "output_type": "stream",
          "name": "stdout",
          "text": [
            "Dimension de X_train (60000, 28, 28)\n",
            "Dimension de y_train (60000,)\n",
            "Dimension de X_test (10000, 28, 28)\n",
            "Dimension de y_test (10000,)\n"
          ]
        }
      ],
      "source": [
        "print('Dimension de X_train', X_train.shape)\n",
        "print('Dimension de y_train', y_train.shape)\n",
        "print('Dimension de X_test', X_test.shape)\n",
        "print('Dimension de y_test', y_test.shape)"
      ],
      "id": "8b8af611"
    },
    {
      "cell_type": "code",
      "execution_count": null,
      "metadata": {
        "colab": {
          "base_uri": "https://localhost:8080/"
        },
        "id": "90b4ad72",
        "outputId": "f09aebf6-63a3-4af4-decf-53c000a7463b"
      },
      "outputs": [
        {
          "name": "stdout",
          "output_type": "stream",
          "text": [
            "[0 1 2 3 4 5 6 7 8 9]\n"
          ]
        }
      ],
      "source": [
        "print(np.unique(y_train))"
      ],
      "id": "90b4ad72"
    },
    {
      "cell_type": "code",
      "execution_count": null,
      "metadata": {
        "id": "98d5ac30"
      },
      "outputs": [],
      "source": [
        "X_train = X_train.reshape(60000, 784)\n",
        "X_test = X_test.reshape(10000, 784)\n",
        "X_train = X_train.astype('float32')\n",
        "X_test = X_test.astype('float32')"
      ],
      "id": "98d5ac30"
    },
    {
      "cell_type": "code",
      "execution_count": null,
      "metadata": {
        "id": "0b7e122c"
      },
      "outputs": [],
      "source": [
        "X_train /= 255\n",
        "X_test /= 255"
      ],
      "id": "0b7e122c"
    },
    {
      "cell_type": "code",
      "execution_count": null,
      "metadata": {
        "colab": {
          "base_uri": "https://localhost:8080/"
        },
        "id": "36d6afb0",
        "outputId": "78a2a0a1-bc09-46af-8bab-377c9ada1b2b"
      },
      "outputs": [
        {
          "output_type": "stream",
          "name": "stdout",
          "text": [
            "Dimension avant one-hot-encoder (60000,)\n"
          ]
        }
      ],
      "source": [
        "nb_classes = 10\n",
        "print('Dimension avant one-hot-encoder', y_train.shape)"
      ],
      "id": "36d6afb0"
    },
    {
      "cell_type": "code",
      "execution_count": null,
      "metadata": {
        "id": "6fafb28b"
      },
      "outputs": [],
      "source": [
        "Y_train = to_categorical(y_train,nb_classes)  "
      ],
      "id": "6fafb28b"
    },
    {
      "cell_type": "markdown",
      "metadata": {
        "id": "eBZ1dOHM1pgJ"
      },
      "source": [
        "-somme toutes les données pi log qi softmax "
      ],
      "id": "eBZ1dOHM1pgJ"
    },
    {
      "cell_type": "code",
      "execution_count": null,
      "metadata": {
        "colab": {
          "base_uri": "https://localhost:8080/"
        },
        "id": "ee632f1c",
        "outputId": "9f6b1704-f97a-4544-eea3-b76fe6a8f7d9"
      },
      "outputs": [
        {
          "output_type": "stream",
          "name": "stdout",
          "text": [
            "Dimension apres one-hot-encoder (60000, 10)\n"
          ]
        }
      ],
      "source": [
        "print('Dimension apres one-hot-encoder', Y_train.shape)"
      ],
      "id": "ee632f1c"
    },
    {
      "cell_type": "code",
      "execution_count": null,
      "metadata": {
        "colab": {
          "base_uri": "https://localhost:8080/"
        },
        "id": "c49c0d7a",
        "outputId": "63773c17-a116-4270-d3ee-e8977adaa063"
      },
      "outputs": [
        {
          "output_type": "execute_result",
          "data": {
            "text/plain": [
              "0"
            ]
          },
          "metadata": {},
          "execution_count": 10
        }
      ],
      "source": [
        "y_train[1]"
      ],
      "id": "c49c0d7a"
    },
    {
      "cell_type": "code",
      "execution_count": null,
      "metadata": {
        "colab": {
          "base_uri": "https://localhost:8080/"
        },
        "id": "8c3632a9",
        "outputId": "1e894da5-701c-41c0-df4d-0c200680021a"
      },
      "outputs": [
        {
          "output_type": "execute_result",
          "data": {
            "text/plain": [
              "array([1., 0., 0., 0., 0., 0., 0., 0., 0., 0.], dtype=float32)"
            ]
          },
          "metadata": {},
          "execution_count": 11
        }
      ],
      "source": [
        "Y_train[1]"
      ],
      "id": "8c3632a9"
    },
    {
      "cell_type": "code",
      "execution_count": null,
      "metadata": {
        "id": "4aa62d48"
      },
      "outputs": [],
      "source": [
        "model = Sequential()\n",
        "\n",
        "model.add(Dense(512, input_shape=(784,)))\n",
        "model.add(Activation('relu'))\n",
        "model.add(Dropout(0.2))\n",
        "\n",
        "\n",
        "model.add(Dense(512))\n",
        "model.add(Activation('relu'))\n",
        "model.add(Dropout(0.2))\n",
        "\n",
        "\n",
        "model.add(Dense(10))\n",
        "model.add(Activation('softmax'))"
      ],
      "id": "4aa62d48"
    },
    {
      "cell_type": "code",
      "execution_count": null,
      "metadata": {
        "id": "c07b1393"
      },
      "outputs": [],
      "source": [
        "model.compile(loss = 'categorical_crossentropy', metrics = ['accuracy'], optimizer = 'adam')"
      ],
      "id": "c07b1393"
    },
    {
      "cell_type": "code",
      "execution_count": null,
      "metadata": {
        "id": "9d19e9c5"
      },
      "outputs": [],
      "source": [
        "Y_test = to_categorical(y_test,nb_classes)"
      ],
      "id": "9d19e9c5"
    },
    {
      "cell_type": "code",
      "execution_count": null,
      "metadata": {
        "colab": {
          "base_uri": "https://localhost:8080/"
        },
        "id": "bc0ca0bc",
        "scrolled": true,
        "outputId": "7bcabe26-d166-410c-9f3d-d7c57231b03d"
      },
      "outputs": [
        {
          "output_type": "stream",
          "name": "stdout",
          "text": [
            "Epoch 1/100\n",
            "600/600 - 7s - loss: 0.2396 - accuracy: 0.9277 - val_loss: 0.1006 - val_accuracy: 0.9699 - 7s/epoch - 12ms/step\n",
            "Epoch 2/100\n",
            "600/600 - 7s - loss: 0.0988 - accuracy: 0.9697 - val_loss: 0.0764 - val_accuracy: 0.9755 - 7s/epoch - 12ms/step\n",
            "Epoch 3/100\n",
            "600/600 - 7s - loss: 0.0713 - accuracy: 0.9774 - val_loss: 0.0717 - val_accuracy: 0.9763 - 7s/epoch - 12ms/step\n",
            "Epoch 4/100\n",
            "600/600 - 7s - loss: 0.0575 - accuracy: 0.9813 - val_loss: 0.0683 - val_accuracy: 0.9790 - 7s/epoch - 12ms/step\n",
            "Epoch 5/100\n",
            "600/600 - 7s - loss: 0.0482 - accuracy: 0.9844 - val_loss: 0.0686 - val_accuracy: 0.9769 - 7s/epoch - 12ms/step\n",
            "Epoch 6/100\n",
            "600/600 - 6s - loss: 0.0412 - accuracy: 0.9862 - val_loss: 0.0620 - val_accuracy: 0.9813 - 6s/epoch - 11ms/step\n",
            "Epoch 7/100\n",
            "600/600 - 7s - loss: 0.0352 - accuracy: 0.9886 - val_loss: 0.0757 - val_accuracy: 0.9793 - 7s/epoch - 12ms/step\n",
            "Epoch 8/100\n",
            "600/600 - 8s - loss: 0.0320 - accuracy: 0.9894 - val_loss: 0.0733 - val_accuracy: 0.9794 - 8s/epoch - 13ms/step\n",
            "Epoch 9/100\n",
            "600/600 - 7s - loss: 0.0300 - accuracy: 0.9899 - val_loss: 0.0737 - val_accuracy: 0.9798 - 7s/epoch - 11ms/step\n",
            "Epoch 10/100\n",
            "600/600 - 7s - loss: 0.0279 - accuracy: 0.9910 - val_loss: 0.0723 - val_accuracy: 0.9814 - 7s/epoch - 12ms/step\n",
            "Epoch 11/100\n",
            "600/600 - 6s - loss: 0.0258 - accuracy: 0.9919 - val_loss: 0.0824 - val_accuracy: 0.9787 - 6s/epoch - 11ms/step\n",
            "Epoch 12/100\n",
            "600/600 - 7s - loss: 0.0229 - accuracy: 0.9930 - val_loss: 0.0648 - val_accuracy: 0.9833 - 7s/epoch - 12ms/step\n",
            "Epoch 13/100\n",
            "600/600 - 8s - loss: 0.0227 - accuracy: 0.9924 - val_loss: 0.0707 - val_accuracy: 0.9840 - 8s/epoch - 13ms/step\n",
            "Epoch 14/100\n",
            "600/600 - 7s - loss: 0.0199 - accuracy: 0.9937 - val_loss: 0.0693 - val_accuracy: 0.9842 - 7s/epoch - 11ms/step\n",
            "Epoch 15/100\n",
            "600/600 - 7s - loss: 0.0209 - accuracy: 0.9934 - val_loss: 0.0710 - val_accuracy: 0.9837 - 7s/epoch - 12ms/step\n",
            "Epoch 16/100\n",
            "600/600 - 7s - loss: 0.0180 - accuracy: 0.9938 - val_loss: 0.0737 - val_accuracy: 0.9846 - 7s/epoch - 11ms/step\n",
            "Epoch 17/100\n",
            "600/600 - 7s - loss: 0.0177 - accuracy: 0.9942 - val_loss: 0.0750 - val_accuracy: 0.9841 - 7s/epoch - 12ms/step\n",
            "Epoch 18/100\n",
            "600/600 - 7s - loss: 0.0179 - accuracy: 0.9943 - val_loss: 0.0785 - val_accuracy: 0.9831 - 7s/epoch - 12ms/step\n",
            "Epoch 19/100\n",
            "600/600 - 6s - loss: 0.0171 - accuracy: 0.9946 - val_loss: 0.0816 - val_accuracy: 0.9835 - 6s/epoch - 11ms/step\n",
            "Epoch 20/100\n",
            "600/600 - 8s - loss: 0.0152 - accuracy: 0.9951 - val_loss: 0.1016 - val_accuracy: 0.9806 - 8s/epoch - 13ms/step\n",
            "Epoch 21/100\n",
            "600/600 - 7s - loss: 0.0173 - accuracy: 0.9944 - val_loss: 0.0915 - val_accuracy: 0.9824 - 7s/epoch - 11ms/step\n",
            "Epoch 22/100\n",
            "600/600 - 7s - loss: 0.0154 - accuracy: 0.9951 - val_loss: 0.0924 - val_accuracy: 0.9821 - 7s/epoch - 11ms/step\n",
            "Epoch 23/100\n",
            "600/600 - 7s - loss: 0.0152 - accuracy: 0.9949 - val_loss: 0.0812 - val_accuracy: 0.9838 - 7s/epoch - 12ms/step\n",
            "Epoch 24/100\n",
            "600/600 - 7s - loss: 0.0135 - accuracy: 0.9954 - val_loss: 0.0873 - val_accuracy: 0.9846 - 7s/epoch - 11ms/step\n",
            "Epoch 25/100\n",
            "600/600 - 7s - loss: 0.0185 - accuracy: 0.9945 - val_loss: 0.0899 - val_accuracy: 0.9830 - 7s/epoch - 12ms/step\n",
            "Epoch 26/100\n",
            "600/600 - 6s - loss: 0.0147 - accuracy: 0.9954 - val_loss: 0.0783 - val_accuracy: 0.9845 - 6s/epoch - 11ms/step\n",
            "Epoch 27/100\n",
            "600/600 - 7s - loss: 0.0117 - accuracy: 0.9961 - val_loss: 0.0755 - val_accuracy: 0.9864 - 7s/epoch - 11ms/step\n",
            "Epoch 28/100\n",
            "600/600 - 7s - loss: 0.0148 - accuracy: 0.9955 - val_loss: 0.0789 - val_accuracy: 0.9855 - 7s/epoch - 11ms/step\n",
            "Epoch 29/100\n",
            "600/600 - 7s - loss: 0.0133 - accuracy: 0.9959 - val_loss: 0.0928 - val_accuracy: 0.9839 - 7s/epoch - 12ms/step\n",
            "Epoch 30/100\n",
            "600/600 - 8s - loss: 0.0107 - accuracy: 0.9964 - val_loss: 0.0910 - val_accuracy: 0.9838 - 8s/epoch - 13ms/step\n",
            "Epoch 31/100\n",
            "600/600 - 7s - loss: 0.0147 - accuracy: 0.9956 - val_loss: 0.0932 - val_accuracy: 0.9837 - 7s/epoch - 11ms/step\n",
            "Epoch 32/100\n",
            "600/600 - 7s - loss: 0.0122 - accuracy: 0.9964 - val_loss: 0.0988 - val_accuracy: 0.9832 - 7s/epoch - 12ms/step\n",
            "Epoch 33/100\n",
            "600/600 - 7s - loss: 0.0111 - accuracy: 0.9967 - val_loss: 0.0933 - val_accuracy: 0.9850 - 7s/epoch - 11ms/step\n",
            "Epoch 34/100\n",
            "600/600 - 7s - loss: 0.0120 - accuracy: 0.9964 - val_loss: 0.1006 - val_accuracy: 0.9831 - 7s/epoch - 12ms/step\n",
            "Epoch 35/100\n",
            "600/600 - 7s - loss: 0.0132 - accuracy: 0.9961 - val_loss: 0.0982 - val_accuracy: 0.9847 - 7s/epoch - 12ms/step\n",
            "Epoch 36/100\n",
            "600/600 - 7s - loss: 0.0105 - accuracy: 0.9968 - val_loss: 0.0934 - val_accuracy: 0.9844 - 7s/epoch - 11ms/step\n",
            "Epoch 37/100\n",
            "600/600 - 7s - loss: 0.0108 - accuracy: 0.9969 - val_loss: 0.0975 - val_accuracy: 0.9841 - 7s/epoch - 12ms/step\n",
            "Epoch 38/100\n",
            "600/600 - 7s - loss: 0.0098 - accuracy: 0.9973 - val_loss: 0.0824 - val_accuracy: 0.9849 - 7s/epoch - 11ms/step\n",
            "Epoch 39/100\n",
            "600/600 - 7s - loss: 0.0114 - accuracy: 0.9965 - val_loss: 0.0999 - val_accuracy: 0.9846 - 7s/epoch - 12ms/step\n",
            "Epoch 40/100\n",
            "600/600 - 7s - loss: 0.0125 - accuracy: 0.9965 - val_loss: 0.0963 - val_accuracy: 0.9831 - 7s/epoch - 12ms/step\n",
            "Epoch 41/100\n",
            "600/600 - 6s - loss: 0.0128 - accuracy: 0.9964 - val_loss: 0.0986 - val_accuracy: 0.9851 - 6s/epoch - 11ms/step\n",
            "Epoch 42/100\n",
            "600/600 - 7s - loss: 0.0127 - accuracy: 0.9967 - val_loss: 0.0988 - val_accuracy: 0.9834 - 7s/epoch - 12ms/step\n",
            "Epoch 43/100\n",
            "600/600 - 7s - loss: 0.0140 - accuracy: 0.9961 - val_loss: 0.1238 - val_accuracy: 0.9802 - 7s/epoch - 11ms/step\n",
            "Epoch 44/100\n",
            "600/600 - 7s - loss: 0.0113 - accuracy: 0.9967 - val_loss: 0.1083 - val_accuracy: 0.9830 - 7s/epoch - 12ms/step\n",
            "Epoch 45/100\n",
            "600/600 - 7s - loss: 0.0088 - accuracy: 0.9977 - val_loss: 0.0946 - val_accuracy: 0.9853 - 7s/epoch - 12ms/step\n",
            "Epoch 46/100\n",
            "600/600 - 7s - loss: 0.0125 - accuracy: 0.9967 - val_loss: 0.1199 - val_accuracy: 0.9800 - 7s/epoch - 11ms/step\n",
            "Epoch 47/100\n",
            "600/600 - 7s - loss: 0.0085 - accuracy: 0.9975 - val_loss: 0.1048 - val_accuracy: 0.9839 - 7s/epoch - 12ms/step\n",
            "Epoch 48/100\n",
            "600/600 - 7s - loss: 0.0100 - accuracy: 0.9970 - val_loss: 0.1126 - val_accuracy: 0.9843 - 7s/epoch - 11ms/step\n",
            "Epoch 49/100\n",
            "600/600 - 7s - loss: 0.0123 - accuracy: 0.9965 - val_loss: 0.0898 - val_accuracy: 0.9854 - 7s/epoch - 12ms/step\n",
            "Epoch 50/100\n",
            "600/600 - 7s - loss: 0.0110 - accuracy: 0.9972 - val_loss: 0.0857 - val_accuracy: 0.9872 - 7s/epoch - 11ms/step\n",
            "Epoch 51/100\n",
            "600/600 - 7s - loss: 0.0087 - accuracy: 0.9974 - val_loss: 0.0892 - val_accuracy: 0.9865 - 7s/epoch - 12ms/step\n",
            "Epoch 52/100\n",
            "600/600 - 8s - loss: 0.0108 - accuracy: 0.9968 - val_loss: 0.1311 - val_accuracy: 0.9829 - 8s/epoch - 13ms/step\n",
            "Epoch 53/100\n",
            "600/600 - 6s - loss: 0.0106 - accuracy: 0.9973 - val_loss: 0.1035 - val_accuracy: 0.9857 - 6s/epoch - 11ms/step\n",
            "Epoch 54/100\n",
            "600/600 - 7s - loss: 0.0099 - accuracy: 0.9973 - val_loss: 0.1089 - val_accuracy: 0.9838 - 7s/epoch - 11ms/step\n",
            "Epoch 55/100\n",
            "600/600 - 7s - loss: 0.0093 - accuracy: 0.9976 - val_loss: 0.1161 - val_accuracy: 0.9856 - 7s/epoch - 12ms/step\n",
            "Epoch 56/100\n",
            "600/600 - 7s - loss: 0.0137 - accuracy: 0.9964 - val_loss: 0.1068 - val_accuracy: 0.9851 - 7s/epoch - 12ms/step\n",
            "Epoch 57/100\n",
            "600/600 - 7s - loss: 0.0079 - accuracy: 0.9979 - val_loss: 0.1236 - val_accuracy: 0.9835 - 7s/epoch - 12ms/step\n",
            "Epoch 58/100\n",
            "600/600 - 7s - loss: 0.0105 - accuracy: 0.9973 - val_loss: 0.1177 - val_accuracy: 0.9861 - 7s/epoch - 11ms/step\n",
            "Epoch 59/100\n",
            "600/600 - 8s - loss: 0.0093 - accuracy: 0.9977 - val_loss: 0.1080 - val_accuracy: 0.9861 - 8s/epoch - 13ms/step\n",
            "Epoch 60/100\n",
            "600/600 - 8s - loss: 0.0110 - accuracy: 0.9972 - val_loss: 0.1180 - val_accuracy: 0.9841 - 8s/epoch - 13ms/step\n",
            "Epoch 61/100\n",
            "600/600 - 6s - loss: 0.0116 - accuracy: 0.9969 - val_loss: 0.1139 - val_accuracy: 0.9851 - 6s/epoch - 11ms/step\n",
            "Epoch 62/100\n",
            "600/600 - 7s - loss: 0.0087 - accuracy: 0.9977 - val_loss: 0.1208 - val_accuracy: 0.9852 - 7s/epoch - 12ms/step\n",
            "Epoch 63/100\n",
            "600/600 - 7s - loss: 0.0101 - accuracy: 0.9973 - val_loss: 0.1104 - val_accuracy: 0.9853 - 7s/epoch - 11ms/step\n",
            "Epoch 64/100\n",
            "600/600 - 9s - loss: 0.0086 - accuracy: 0.9974 - val_loss: 0.1107 - val_accuracy: 0.9855 - 9s/epoch - 15ms/step\n",
            "Epoch 65/100\n",
            "600/600 - 7s - loss: 0.0103 - accuracy: 0.9974 - val_loss: 0.1254 - val_accuracy: 0.9851 - 7s/epoch - 12ms/step\n",
            "Epoch 66/100\n",
            "600/600 - 7s - loss: 0.0095 - accuracy: 0.9977 - val_loss: 0.1290 - val_accuracy: 0.9846 - 7s/epoch - 11ms/step\n",
            "Epoch 67/100\n",
            "600/600 - 8s - loss: 0.0079 - accuracy: 0.9978 - val_loss: 0.1312 - val_accuracy: 0.9858 - 8s/epoch - 13ms/step\n",
            "Epoch 68/100\n",
            "600/600 - 7s - loss: 0.0101 - accuracy: 0.9977 - val_loss: 0.1245 - val_accuracy: 0.9847 - 7s/epoch - 12ms/step\n",
            "Epoch 69/100\n",
            "600/600 - 7s - loss: 0.0106 - accuracy: 0.9974 - val_loss: 0.1266 - val_accuracy: 0.9848 - 7s/epoch - 11ms/step\n",
            "Epoch 70/100\n",
            "600/600 - 7s - loss: 0.0109 - accuracy: 0.9973 - val_loss: 0.1381 - val_accuracy: 0.9863 - 7s/epoch - 12ms/step\n",
            "Epoch 71/100\n",
            "600/600 - 7s - loss: 0.0093 - accuracy: 0.9977 - val_loss: 0.1347 - val_accuracy: 0.9846 - 7s/epoch - 12ms/step\n",
            "Epoch 72/100\n",
            "600/600 - 7s - loss: 0.0081 - accuracy: 0.9980 - val_loss: 0.1562 - val_accuracy: 0.9844 - 7s/epoch - 12ms/step\n",
            "Epoch 73/100\n",
            "600/600 - 7s - loss: 0.0101 - accuracy: 0.9976 - val_loss: 0.1352 - val_accuracy: 0.9835 - 7s/epoch - 12ms/step\n",
            "Epoch 74/100\n",
            "600/600 - 7s - loss: 0.0099 - accuracy: 0.9974 - val_loss: 0.1285 - val_accuracy: 0.9846 - 7s/epoch - 12ms/step\n",
            "Epoch 75/100\n",
            "600/600 - 8s - loss: 0.0121 - accuracy: 0.9974 - val_loss: 0.1246 - val_accuracy: 0.9851 - 8s/epoch - 13ms/step\n",
            "Epoch 76/100\n",
            "600/600 - 7s - loss: 0.0101 - accuracy: 0.9974 - val_loss: 0.1307 - val_accuracy: 0.9844 - 7s/epoch - 11ms/step\n",
            "Epoch 77/100\n",
            "600/600 - 7s - loss: 0.0093 - accuracy: 0.9977 - val_loss: 0.1307 - val_accuracy: 0.9850 - 7s/epoch - 12ms/step\n",
            "Epoch 78/100\n",
            "600/600 - 8s - loss: 0.0078 - accuracy: 0.9978 - val_loss: 0.1334 - val_accuracy: 0.9856 - 8s/epoch - 13ms/step\n",
            "Epoch 79/100\n",
            "600/600 - 7s - loss: 0.0100 - accuracy: 0.9974 - val_loss: 0.1329 - val_accuracy: 0.9848 - 7s/epoch - 11ms/step\n",
            "Epoch 80/100\n",
            "600/600 - 7s - loss: 0.0081 - accuracy: 0.9978 - val_loss: 0.1192 - val_accuracy: 0.9856 - 7s/epoch - 12ms/step\n",
            "Epoch 81/100\n",
            "600/600 - 7s - loss: 0.0093 - accuracy: 0.9979 - val_loss: 0.1499 - val_accuracy: 0.9843 - 7s/epoch - 12ms/step\n",
            "Epoch 82/100\n",
            "600/600 - 7s - loss: 0.0096 - accuracy: 0.9978 - val_loss: 0.1394 - val_accuracy: 0.9856 - 7s/epoch - 12ms/step\n",
            "Epoch 83/100\n",
            "600/600 - 11s - loss: 0.0102 - accuracy: 0.9980 - val_loss: 0.1334 - val_accuracy: 0.9857 - 11s/epoch - 19ms/step\n",
            "Epoch 84/100\n",
            "600/600 - 14s - loss: 0.0109 - accuracy: 0.9975 - val_loss: 0.1577 - val_accuracy: 0.9854 - 14s/epoch - 23ms/step\n",
            "Epoch 85/100\n",
            "600/600 - 10s - loss: 0.0098 - accuracy: 0.9979 - val_loss: 0.1296 - val_accuracy: 0.9868 - 10s/epoch - 16ms/step\n",
            "Epoch 86/100\n",
            "600/600 - 9s - loss: 0.0065 - accuracy: 0.9984 - val_loss: 0.1302 - val_accuracy: 0.9864 - 9s/epoch - 16ms/step\n",
            "Epoch 87/100\n",
            "600/600 - 9s - loss: 0.0089 - accuracy: 0.9982 - val_loss: 0.1614 - val_accuracy: 0.9839 - 9s/epoch - 15ms/step\n",
            "Epoch 88/100\n",
            "600/600 - 9s - loss: 0.0107 - accuracy: 0.9979 - val_loss: 0.1308 - val_accuracy: 0.9861 - 9s/epoch - 15ms/step\n",
            "Epoch 89/100\n",
            "600/600 - 9s - loss: 0.0078 - accuracy: 0.9981 - val_loss: 0.1429 - val_accuracy: 0.9859 - 9s/epoch - 15ms/step\n",
            "Epoch 90/100\n",
            "600/600 - 7s - loss: 0.0116 - accuracy: 0.9977 - val_loss: 0.1565 - val_accuracy: 0.9843 - 7s/epoch - 11ms/step\n",
            "Epoch 91/100\n",
            "600/600 - 7s - loss: 0.0103 - accuracy: 0.9978 - val_loss: 0.1554 - val_accuracy: 0.9857 - 7s/epoch - 12ms/step\n",
            "Epoch 92/100\n",
            "600/600 - 7s - loss: 0.0095 - accuracy: 0.9978 - val_loss: 0.1519 - val_accuracy: 0.9853 - 7s/epoch - 12ms/step\n",
            "Epoch 93/100\n",
            "600/600 - 7s - loss: 0.0093 - accuracy: 0.9980 - val_loss: 0.1552 - val_accuracy: 0.9858 - 7s/epoch - 12ms/step\n",
            "Epoch 94/100\n",
            "600/600 - 8s - loss: 0.0081 - accuracy: 0.9981 - val_loss: 0.1525 - val_accuracy: 0.9848 - 8s/epoch - 13ms/step\n",
            "Epoch 95/100\n",
            "600/600 - 7s - loss: 0.0083 - accuracy: 0.9982 - val_loss: 0.1465 - val_accuracy: 0.9851 - 7s/epoch - 12ms/step\n",
            "Epoch 96/100\n",
            "600/600 - 7s - loss: 0.0095 - accuracy: 0.9980 - val_loss: 0.1686 - val_accuracy: 0.9850 - 7s/epoch - 12ms/step\n",
            "Epoch 97/100\n",
            "600/600 - 7s - loss: 0.0108 - accuracy: 0.9977 - val_loss: 0.1543 - val_accuracy: 0.9855 - 7s/epoch - 12ms/step\n",
            "Epoch 98/100\n",
            "600/600 - 7s - loss: 0.0077 - accuracy: 0.9982 - val_loss: 0.1719 - val_accuracy: 0.9860 - 7s/epoch - 11ms/step\n",
            "Epoch 99/100\n",
            "600/600 - 8s - loss: 0.0091 - accuracy: 0.9980 - val_loss: 0.1612 - val_accuracy: 0.9848 - 8s/epoch - 13ms/step\n",
            "Epoch 100/100\n",
            "600/600 - 8s - loss: 0.0096 - accuracy: 0.9981 - val_loss: 0.1494 - val_accuracy: 0.9865 - 8s/epoch - 13ms/step\n"
          ]
        }
      ],
      "source": [
        "history = model.fit(X_train,Y_train,\n",
        "                   batch_size = 100,\n",
        "                   epochs =100 ,\n",
        "                   verbose = 2,\n",
        "                   validation_data = (X_test,Y_test))"
      ],
      "id": "bc0ca0bc"
    },
    {
      "cell_type": "code",
      "execution_count": null,
      "metadata": {
        "id": "b0529d60",
        "colab": {
          "base_uri": "https://localhost:8080/"
        },
        "outputId": "e20e105a-58a9-4a39-9b48-91d6268f90e6"
      },
      "outputs": [
        {
          "output_type": "stream",
          "name": "stdout",
          "text": [
            "Model: \"sequential\"\n",
            "_________________________________________________________________\n",
            " Layer (type)                Output Shape              Param #   \n",
            "=================================================================\n",
            " dense (Dense)               (None, 512)               401920    \n",
            "                                                                 \n",
            " activation (Activation)     (None, 512)               0         \n",
            "                                                                 \n",
            " dropout (Dropout)           (None, 512)               0         \n",
            "                                                                 \n",
            " dense_1 (Dense)             (None, 512)               262656    \n",
            "                                                                 \n",
            " activation_1 (Activation)   (None, 512)               0         \n",
            "                                                                 \n",
            " dropout_1 (Dropout)         (None, 512)               0         \n",
            "                                                                 \n",
            " dense_2 (Dense)             (None, 10)                5130      \n",
            "                                                                 \n",
            " activation_2 (Activation)   (None, 10)                0         \n",
            "                                                                 \n",
            "=================================================================\n",
            "Total params: 669,706\n",
            "Trainable params: 669,706\n",
            "Non-trainable params: 0\n",
            "_________________________________________________________________\n"
          ]
        }
      ],
      "source": [
        "model.summary()"
      ],
      "id": "b0529d60"
    },
    {
      "cell_type": "markdown",
      "metadata": {
        "id": "05aa0631"
      },
      "source": [
        "**Enregistrement du modèle**"
      ],
      "id": "05aa0631"
    },
    {
      "cell_type": "code",
      "execution_count": null,
      "metadata": {
        "id": "31f43d98"
      },
      "outputs": [],
      "source": [
        "import os\n",
        "save_dir = 'C:/Utilisateurs/MSI/ANN_HandwrittenMNIST'"
      ],
      "id": "31f43d98"
    },
    {
      "cell_type": "code",
      "execution_count": null,
      "metadata": {
        "id": "7ad518a4"
      },
      "outputs": [],
      "source": [
        "model_name = 'keras_MNIST.h5'\n",
        "model_path = os.path.join(save_dir,model_name)"
      ],
      "id": "7ad518a4"
    },
    {
      "cell_type": "code",
      "execution_count": null,
      "metadata": {
        "id": "5972781f"
      },
      "outputs": [],
      "source": [
        "model.save(model_path)"
      ],
      "id": "5972781f"
    },
    {
      "cell_type": "code",
      "execution_count": null,
      "metadata": {
        "id": "e8984685",
        "colab": {
          "base_uri": "https://localhost:8080/"
        },
        "outputId": "812149ba-3dbc-4ffe-9962-fb8c9e7de9ad"
      },
      "outputs": [
        {
          "output_type": "stream",
          "name": "stdout",
          "text": [
            "Modele renregistre dans C:/Utilisateurs/MSI/ANN_HandwrittenMNIST/keras_MNIST.h5\n"
          ]
        }
      ],
      "source": [
        "print('Modele renregistre dans %s' % model_path)"
      ],
      "id": "e8984685"
    },
    {
      "cell_type": "markdown",
      "metadata": {
        "id": "7a4e2274"
      },
      "source": [
        "https://commentouvrir.com/extension/h5"
      ],
      "id": "7a4e2274"
    },
    {
      "cell_type": "markdown",
      "metadata": {
        "id": "c66b759f"
      },
      "source": [
        "**Visualiser les metriques**"
      ],
      "id": "c66b759f"
    },
    {
      "cell_type": "code",
      "execution_count": null,
      "metadata": {
        "id": "b293a18f",
        "colab": {
          "base_uri": "https://localhost:8080/",
          "height": 312
        },
        "outputId": "879051a2-130a-45f3-df0e-92cb339a66d7"
      },
      "outputs": [
        {
          "output_type": "execute_result",
          "data": {
            "text/plain": [
              "<matplotlib.legend.Legend at 0x7fc41800ffd0>"
            ]
          },
          "metadata": {},
          "execution_count": 26
        },
        {
          "output_type": "display_data",
          "data": {
            "text/plain": [
              "<Figure size 432x288 with 1 Axes>"
            ],
            "image/png": "[encoded data removed]"
          },
          "metadata": {
            "needs_background": "light"
          }
        }
      ],
      "source": [
        "plt.plot(history.history['accuracy'])\n",
        "plt.plot(history.history['val_accuracy'])\n",
        "plt.title('Model Accuracy')\n",
        "plt.xlabel('Epoch')\n",
        "plt.ylabel('Accuracy')\n",
        "plt.legend(['Train','Test'])"
      ],
      "id": "b293a18f"
    },
    {
      "cell_type": "code",
      "execution_count": null,
      "metadata": {
        "id": "8a61fa74",
        "colab": {
          "base_uri": "https://localhost:8080/",
          "height": 312
        },
        "outputId": "85f7cc73-a11d-4120-e15f-11e38b4606e6"
      },
      "outputs": [
        {
          "output_type": "execute_result",
          "data": {
            "text/plain": [
              "<matplotlib.legend.Legend at 0x7fc41827f700>"
            ]
          },
          "metadata": {},
          "execution_count": 27
        },
        {
          "output_type": "display_data",
          "data": {
            "text/plain": [
              "<Figure size 432x288 with 1 Axes>"
            ],
            "image/png": "[encoded data removed]"
          },
          "metadata": {
            "needs_background": "light"
          }
        }
      ],
      "source": [
        "plt.plot(history.history['loss'])\n",
        "plt.plot(history.history['val_loss'])\n",
        "plt.title('Model Loss')\n",
        "plt.xlabel('Epoch')\n",
        "plt.ylabel('Loss')\n",
        "plt.legend(['Train','Test'])"
      ],
      "id": "8a61fa74"
    }
  ],
  "metadata": {
    "colab": {
      "provenance": [],
      "include_colab_link": true
    },
    "kernelspec": {
      "display_name": "Python 3",
      "language": "python",
      "name": "python3"
    },
    "language_info": {
      "codemirror_mode": {
        "name": "ipython",
        "version": 3
      },
      "file_extension": ".py",
      "mimetype": "text/x-python",
      "name": "python",
      "nbconvert_exporter": "python",
      "pygments_lexer": "ipython3",
      "version": "3.8.8"
    }
  },
  "nbformat": 4,
  "nbformat_minor": 5
}